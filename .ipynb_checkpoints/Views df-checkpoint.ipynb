{
 "cells": [
  {
   "cell_type": "code",
   "execution_count": 4,
   "metadata": {},
   "outputs": [],
   "source": [
    "df=[]\n",
    "files=[]\n",
    "import pandas as pd\n",
    "import re"
   ]
  },
  {
   "cell_type": "code",
   "execution_count": 5,
   "metadata": {},
   "outputs": [
    {
     "name": "stderr",
     "output_type": "stream",
     "text": [
      "b'Skipping line 4758: expected 18 fields, saw 19\\nSkipping line 6447: expected 18 fields, saw 19\\nSkipping line 11195: expected 18 fields, saw 19\\nSkipping line 14231: expected 18 fields, saw 19\\nSkipping line 16311: expected 18 fields, saw 19\\nSkipping line 30007: expected 18 fields, saw 21\\n'\n",
      "b'Skipping line 47136: expected 18 fields, saw 19\\nSkipping line 49056: expected 18 fields, saw 20\\n'\n",
      "b'Skipping line 67284: expected 18 fields, saw 19\\n'\n",
      "C:\\Users\\Bilal\\anaconda3\\lib\\site-packages\\IPython\\core\\interactiveshell.py:3063: DtypeWarning: Columns (4) have mixed types.Specify dtype option on import or set low_memory=False.\n",
      "  interactivity=interactivity, compiler=compiler, result=result)\n",
      "b'Skipping line 7675: expected 19 fields, saw 20\\nSkipping line 18065: expected 19 fields, saw 20\\nSkipping line 18734: expected 19 fields, saw 20\\nSkipping line 21341: expected 19 fields, saw 20\\n'\n",
      "b'Skipping line 47314: expected 19 fields, saw 20\\nSkipping line 48803: expected 19 fields, saw 21\\n'\n",
      "b'Skipping line 4328: expected 19 fields, saw 20\\nSkipping line 10330: expected 19 fields, saw 20\\nSkipping line 17583: expected 19 fields, saw 20\\n'\n",
      "b'Skipping line 39861: expected 19 fields, saw 21\\n'\n",
      "b'Skipping line 2170: expected 19 fields, saw 20\\nSkipping line 2768: expected 19 fields, saw 21\\nSkipping line 15471: expected 19 fields, saw 20\\nSkipping line 21238: expected 19 fields, saw 20\\n'\n",
      "b'Skipping line 5744: expected 19 fields, saw 20\\nSkipping line 7940: expected 19 fields, saw 21\\nSkipping line 14381: expected 19 fields, saw 20\\nSkipping line 17349: expected 19 fields, saw 20\\n'\n",
      "b'Skipping line 39523: expected 19 fields, saw 20\\n'\n"
     ]
    }
   ],
   "source": [
    "import os \n",
    "directory=os.path.join(\"C://\",\"Users/Bilal/PycharmProjects/car-analysis\")\n",
    "for root,dirs,files in os.walk(directory):\n",
    "    for file in files:\n",
    "        if file.endswith(\".csv\"):\n",
    "            df.append(pd.read_csv(file,error_bad_lines=False))\n",
    "            "
   ]
  },
  {
   "cell_type": "code",
   "execution_count": 6,
   "metadata": {},
   "outputs": [],
   "source": [
    "l=len(df)\n",
    "for i in range(l):\n",
    "    df[i]=df[i][[\"Make\",\"Model\",\"Year\",\"Days Online\"]]\n",
    "        "
   ]
  },
  {
   "cell_type": "code",
   "execution_count": 7,
   "metadata": {},
   "outputs": [],
   "source": [
    "clean_df=[i for i in range(l)]\n",
    "for i in range(l):\n",
    "    clean_df[i]=df[i].dropna()"
   ]
  },
  {
   "cell_type": "code",
   "execution_count": 8,
   "metadata": {},
   "outputs": [],
   "source": [
    "import re\n",
    "for i in range(l):\n",
    "    \n",
    "    for index,row in clean_df[i].iterrows():\n",
    "        \n",
    "        row[\"Days Online\"]=row[\"Days Online\"].strip()\n",
    "        if row[\"Days Online\"][-4:]==\"hour\" or row[\"Days Online\"][-5:]==\"hours\":\n",
    "            num=eval(re.sub('\\D','', row[\"Days Online\"]))/24\n",
    "            clean_df[i].at[index,'Days Online']=num\n",
    "        elif row[\"Days Online\"][-4:]==\"mins\" or row[\"Days Online\"][-3:]==\"min\":\n",
    "            num=eval(re.sub('\\D','', row[\"Days Online\"]))/(60*24)\n",
    "            clean_df[i].at[index,'Days Online']=num\n",
    "        elif row[\"Days Online\"][-3:]==\"day\" or row[\"Days Online\"][-4:]==\"days\":\n",
    "            num=eval(re.sub('\\D','', row[\"Days Online\"]))\n",
    "            clean_df[i].at[index,'Days Online']=num\n",
    "        \n",
    "        \n",
    "        "
   ]
  },
  {
   "cell_type": "code",
   "execution_count": 9,
   "metadata": {},
   "outputs": [
    {
     "name": "stdout",
     "output_type": "stream",
     "text": [
      "0\n"
     ]
    },
    {
     "name": "stderr",
     "output_type": "stream",
     "text": [
      "C:\\Users\\Bilal\\anaconda3\\lib\\site-packages\\ipykernel_launcher.py:3: SettingWithCopyWarning: \n",
      "A value is trying to be set on a copy of a slice from a DataFrame.\n",
      "Try using .loc[row_indexer,col_indexer] = value instead\n",
      "\n",
      "See the caveats in the documentation: https://pandas.pydata.org/pandas-docs/stable/user_guide/indexing.html#returning-a-view-versus-a-copy\n",
      "  This is separate from the ipykernel package so we can avoid doing imports until\n"
     ]
    },
    {
     "name": "stdout",
     "output_type": "stream",
     "text": [
      "1\n",
      "2\n",
      "3\n",
      "4\n",
      "5\n",
      "6\n"
     ]
    }
   ],
   "source": [
    "\n",
    "for i in range(l):\n",
    "    print(i)\n",
    "    clean_df[i][\"Days Online\"]=clean_df[i][\"Days Online\"].astype(float)\n",
    "    clean_df[i]=clean_df[i].groupby([\"Model\",\"Make\",\"Year\"],as_index=False,sort=False)['Days Online'].mean()"
   ]
  },
  {
   "cell_type": "code",
   "execution_count": 10,
   "metadata": {},
   "outputs": [],
   "source": [
    "for i in range(l):\n",
    "    #clean_df[i]['Views Per Day']=clean_df[i][\"Views\"]/clean_df[i]['Days Online']\n",
    "    #clean_df[i][\"Views Per Day\"]=clean_df[i][\"Views Per Day\"].astype(float)\n",
    "    #clean_df[i]=clean_df[i].sort_values(by=[\"Views\"],ascending=False)\n",
    "    clean_df[i][\"Days Online\"]=clean_df[i][\"Days Online\"].astype(float)\n",
    "    clean_df[i]=clean_df[i].sort_values(by=[\"Days Online\"],ascending=False)"
   ]
  },
  {
   "cell_type": "code",
   "execution_count": 11,
   "metadata": {},
   "outputs": [
    {
     "data": {
      "text/html": [
       "<div>\n",
       "<style scoped>\n",
       "    .dataframe tbody tr th:only-of-type {\n",
       "        vertical-align: middle;\n",
       "    }\n",
       "\n",
       "    .dataframe tbody tr th {\n",
       "        vertical-align: top;\n",
       "    }\n",
       "\n",
       "    .dataframe thead th {\n",
       "        text-align: right;\n",
       "    }\n",
       "</style>\n",
       "<table border=\"1\" class=\"dataframe\">\n",
       "  <thead>\n",
       "    <tr style=\"text-align: right;\">\n",
       "      <th></th>\n",
       "      <th>Model</th>\n",
       "      <th>Make</th>\n",
       "      <th>Year</th>\n",
       "      <th>Days Online 6</th>\n",
       "    </tr>\n",
       "  </thead>\n",
       "  <tbody>\n",
       "    <tr>\n",
       "      <th>641</th>\n",
       "      <td>SCALA</td>\n",
       "      <td>Skoda</td>\n",
       "      <td>2019</td>\n",
       "      <td>70.000000</td>\n",
       "    </tr>\n",
       "    <tr>\n",
       "      <th>543</th>\n",
       "      <td>Zafira</td>\n",
       "      <td>Vauxhall</td>\n",
       "      <td>2015</td>\n",
       "      <td>68.000000</td>\n",
       "    </tr>\n",
       "    <tr>\n",
       "      <th>322</th>\n",
       "      <td>S-MAX</td>\n",
       "      <td>Ford</td>\n",
       "      <td>2012</td>\n",
       "      <td>60.000000</td>\n",
       "    </tr>\n",
       "    <tr>\n",
       "      <th>38</th>\n",
       "      <td>ASX</td>\n",
       "      <td>Mitsubishi</td>\n",
       "      <td>2014</td>\n",
       "      <td>55.000000</td>\n",
       "    </tr>\n",
       "    <tr>\n",
       "      <th>678</th>\n",
       "      <td>Terios</td>\n",
       "      <td>Daihatsu</td>\n",
       "      <td>2008</td>\n",
       "      <td>53.000000</td>\n",
       "    </tr>\n",
       "    <tr>\n",
       "      <th>...</th>\n",
       "      <td>...</td>\n",
       "      <td>...</td>\n",
       "      <td>...</td>\n",
       "      <td>...</td>\n",
       "    </tr>\n",
       "    <tr>\n",
       "      <th>746</th>\n",
       "      <td>Landcruiser</td>\n",
       "      <td>Toyota</td>\n",
       "      <td>2011</td>\n",
       "      <td>0.018750</td>\n",
       "    </tr>\n",
       "    <tr>\n",
       "      <th>748</th>\n",
       "      <td>C4</td>\n",
       "      <td>Citroen</td>\n",
       "      <td>2017</td>\n",
       "      <td>0.018750</td>\n",
       "    </tr>\n",
       "    <tr>\n",
       "      <th>419</th>\n",
       "      <td>RX450h</td>\n",
       "      <td>Lexus</td>\n",
       "      <td>2019</td>\n",
       "      <td>0.013889</td>\n",
       "    </tr>\n",
       "    <tr>\n",
       "      <th>243</th>\n",
       "      <td>3-Series</td>\n",
       "      <td>BMW</td>\n",
       "      <td>2007</td>\n",
       "      <td>0.007639</td>\n",
       "    </tr>\n",
       "    <tr>\n",
       "      <th>119</th>\n",
       "      <td>3-Series</td>\n",
       "      <td>BMW</td>\n",
       "      <td>2008</td>\n",
       "      <td>0.006250</td>\n",
       "    </tr>\n",
       "  </tbody>\n",
       "</table>\n",
       "<p>750 rows × 4 columns</p>\n",
       "</div>"
      ],
      "text/plain": [
       "           Model        Make  Year  Days Online 6\n",
       "641        SCALA       Skoda  2019      70.000000\n",
       "543       Zafira    Vauxhall  2015      68.000000\n",
       "322        S-MAX        Ford  2012      60.000000\n",
       "38           ASX  Mitsubishi  2014      55.000000\n",
       "678       Terios    Daihatsu  2008      53.000000\n",
       "..           ...         ...   ...            ...\n",
       "746  Landcruiser      Toyota  2011       0.018750\n",
       "748           C4     Citroen  2017       0.018750\n",
       "419       RX450h       Lexus  2019       0.013889\n",
       "243     3-Series         BMW  2007       0.007639\n",
       "119     3-Series         BMW  2008       0.006250\n",
       "\n",
       "[750 rows x 4 columns]"
      ]
     },
     "execution_count": 11,
     "metadata": {},
     "output_type": "execute_result"
    }
   ],
   "source": [
    "final_df=clean_df[0]\n",
    "for i in range(1,l):\n",
    "    clean_df[i]=clean_df[i].rename(columns={'Days Online':'Days Online {}'.format(i)})\n",
    "clean_df[6]"
   ]
  },
  {
   "cell_type": "code",
   "execution_count": 14,
   "metadata": {},
   "outputs": [
    {
     "name": "stdout",
     "output_type": "stream",
     "text": [
      "1\n",
      "2\n",
      "3\n",
      "4\n",
      "5\n",
      "6\n"
     ]
    }
   ],
   "source": [
    "final_df=[clean_df[0]]\n",
    "for i in range(1,l):\n",
    "    print(i)\n",
    "    final_df.append(pd.merge(final_df[i-1],clean_df[i],how=\"outer\",on=['Model','Make','Year']))\n",
    "    final_df[i]=final_df[i].fillna(0)\n",
    "    #final_df[i]['Views']=final_df[i][\"Views_x\"]+final_df[i][\"Views_y\"]\n",
    "    #final_df[i]['Days Online']=final_df[i][\"Days Online_x\"]+final_df[i][\"Days Online_y\"]\n",
    "    #final_df[i].drop([\"Days Online_x\",\"Days Online_y\"],axis =1,inplace= True)"
   ]
  },
  {
   "cell_type": "code",
   "execution_count": 36,
   "metadata": {},
   "outputs": [],
   "source": [
    "from sqlalchemy import create_engine\n",
    "engine=create_engine(\"sqlite:///\"+\"C://Users/Bilal/PycharmProjects/car-analysis/car/db.sqlite3\")\n",
    "final_df[6].to_sql(con=engine,name=\"Car_Days\")\n"
   ]
  },
  {
   "cell_type": "code",
   "execution_count": 12,
   "metadata": {},
   "outputs": [
    {
     "data": {
      "image/png": "[encoded data removed]",
      "text/plain": [
       "<Figure size 648x432 with 1 Axes>"
      ]
     },
     "metadata": {
      "needs_background": "light"
     },
     "output_type": "display_data"
    }
   ],
   "source": [
    "import matplotlib.pyplot as plt\n",
    "main=final_df[4].loc[(final_df[4]['Make']==\"Volkswagen\") & (final_df[4]['Model']==\"Polo\") & (final_df[4]['Year']==\"1998\")]\n",
    "plt.figure(figsize = (9, 6))\n",
    "plt.plot(range(5), [main.iloc[0][i] for i in range(3,l+2)])\n",
    "plt.xlabel('Time')\n",
    "plt.ylabel('Time to Sell')\n",
    "plt.title(\"{} {} {}\".format(main.iloc[0][0],main.iloc[0][1],main.iloc[0][2]))\n",
    "plt.savefig(\"C:/users/bilal/pycharmprojects/car-analysis/views example.jpg\")"
   ]
  },
  {
   "cell_type": "code",
   "execution_count": 39,
   "metadata": {},
   "outputs": [],
   "source": [
    "main=pd.DataFrame(final_df[4].loc[(final_df[4]['Make']==\"Volkswagen\") & (final_df[4]['Model']==\"Polo\") & (final_df[4]['Year']==\"1998\")])\n",
    "columns=[col for col in final_df[4] if col.startswith(\"Days\")]\n",
    "main=main[columns]\n",
    "main=main.iloc[0]\n",
    "uv=[i for i in main]"
   ]
  },
  {
   "cell_type": "code",
   "execution_count": 20,
   "metadata": {},
   "outputs": [
    {
     "data": {
      "text/plain": [
       "Model             object\n",
       "Make              object\n",
       "Year              object\n",
       "Days Online      float64\n",
       "Days Online 1    float64\n",
       "Days Online 2    float64\n",
       "Days Online 3    float64\n",
       "Days Online 4    float64\n",
       "Days Online 5    float64\n",
       "Days Online 6    float64\n",
       "dtype: object"
      ]
     },
     "execution_count": 20,
     "metadata": {},
     "output_type": "execute_result"
    }
   ],
   "source": [
    "final_df[6].dtypes"
   ]
  },
  {
   "cell_type": "code",
   "execution_count": 17,
   "metadata": {},
   "outputs": [],
   "source": [
    "columns=[col for col in final_df[6] if col.startswith(\"Days\")]"
   ]
  },
  {
   "cell_type": "code",
   "execution_count": 29,
   "metadata": {},
   "outputs": [],
   "source": [
    "\n",
    "final_df[6][\"Average Days Online\"]=final_df[6][\"Days Online\"]+final_df[6][\"Days Online 1\"]+final_df[6][\"Days Online 2\"]+final_df[6][\"Days Online 3\"]+final_df[6][\"Days Online 4\"]+final_df[6][\"Days Online 5\"]+final_df[6][\"Days Online 6\"]"
   ]
  },
  {
   "cell_type": "code",
   "execution_count": 31,
   "metadata": {},
   "outputs": [],
   "source": [
    "final_df[6][\"Average Days Online\"]=final_df[6][\"Average Days Online\"]/7"
   ]
  },
  {
   "cell_type": "code",
   "execution_count": 35,
   "metadata": {},
   "outputs": [
    {
     "data": {
      "text/html": [
       "<div>\n",
       "<style scoped>\n",
       "    .dataframe tbody tr th:only-of-type {\n",
       "        vertical-align: middle;\n",
       "    }\n",
       "\n",
       "    .dataframe tbody tr th {\n",
       "        vertical-align: top;\n",
       "    }\n",
       "\n",
       "    .dataframe thead th {\n",
       "        text-align: right;\n",
       "    }\n",
       "</style>\n",
       "<table border=\"1\" class=\"dataframe\">\n",
       "  <thead>\n",
       "    <tr style=\"text-align: right;\">\n",
       "      <th></th>\n",
       "      <th>Model</th>\n",
       "      <th>Make</th>\n",
       "      <th>Year</th>\n",
       "      <th>Days Online</th>\n",
       "      <th>Days Online 1</th>\n",
       "      <th>Days Online 2</th>\n",
       "      <th>Days Online 3</th>\n",
       "      <th>Days Online 4</th>\n",
       "      <th>Days Online 5</th>\n",
       "      <th>Days Online 6</th>\n",
       "      <th>Average Days Online</th>\n",
       "    </tr>\n",
       "  </thead>\n",
       "  <tbody>\n",
       "    <tr>\n",
       "      <th>0</th>\n",
       "      <td>Grand Scenic</td>\n",
       "      <td>Renault</td>\n",
       "      <td>2016</td>\n",
       "      <td>266.0</td>\n",
       "      <td>0.0</td>\n",
       "      <td>0.0</td>\n",
       "      <td>0.0</td>\n",
       "      <td>0.0</td>\n",
       "      <td>0.000000</td>\n",
       "      <td>0.000000</td>\n",
       "      <td>38.000000</td>\n",
       "    </tr>\n",
       "    <tr>\n",
       "      <th>1</th>\n",
       "      <td>Discovery</td>\n",
       "      <td>Land Rover</td>\n",
       "      <td>2010</td>\n",
       "      <td>262.0</td>\n",
       "      <td>0.0</td>\n",
       "      <td>0.0</td>\n",
       "      <td>0.0</td>\n",
       "      <td>0.0</td>\n",
       "      <td>0.000000</td>\n",
       "      <td>0.000000</td>\n",
       "      <td>37.428571</td>\n",
       "    </tr>\n",
       "    <tr>\n",
       "      <th>2</th>\n",
       "      <td>Clio</td>\n",
       "      <td>Renault</td>\n",
       "      <td>2015</td>\n",
       "      <td>262.0</td>\n",
       "      <td>0.0</td>\n",
       "      <td>0.0</td>\n",
       "      <td>0.0</td>\n",
       "      <td>0.0</td>\n",
       "      <td>1.354167</td>\n",
       "      <td>3.000000</td>\n",
       "      <td>38.050595</td>\n",
       "    </tr>\n",
       "    <tr>\n",
       "      <th>3</th>\n",
       "      <td>Avensis</td>\n",
       "      <td>Toyota</td>\n",
       "      <td>2014</td>\n",
       "      <td>259.0</td>\n",
       "      <td>0.0</td>\n",
       "      <td>0.0</td>\n",
       "      <td>0.0</td>\n",
       "      <td>0.0</td>\n",
       "      <td>0.516319</td>\n",
       "      <td>0.000000</td>\n",
       "      <td>37.073760</td>\n",
       "    </tr>\n",
       "    <tr>\n",
       "      <th>4</th>\n",
       "      <td>Transporter</td>\n",
       "      <td>Volkswagen</td>\n",
       "      <td>2018</td>\n",
       "      <td>259.0</td>\n",
       "      <td>0.0</td>\n",
       "      <td>0.0</td>\n",
       "      <td>0.0</td>\n",
       "      <td>0.0</td>\n",
       "      <td>1.000000</td>\n",
       "      <td>3.000000</td>\n",
       "      <td>37.571429</td>\n",
       "    </tr>\n",
       "    <tr>\n",
       "      <th>...</th>\n",
       "      <td>...</td>\n",
       "      <td>...</td>\n",
       "      <td>...</td>\n",
       "      <td>...</td>\n",
       "      <td>...</td>\n",
       "      <td>...</td>\n",
       "      <td>...</td>\n",
       "      <td>...</td>\n",
       "      <td>...</td>\n",
       "      <td>...</td>\n",
       "      <td>...</td>\n",
       "    </tr>\n",
       "    <tr>\n",
       "      <th>7686</th>\n",
       "      <td>A3</td>\n",
       "      <td>Audi</td>\n",
       "      <td>2017</td>\n",
       "      <td>0.0</td>\n",
       "      <td>0.0</td>\n",
       "      <td>0.0</td>\n",
       "      <td>0.0</td>\n",
       "      <td>0.0</td>\n",
       "      <td>0.000000</td>\n",
       "      <td>0.019444</td>\n",
       "      <td>0.002778</td>\n",
       "    </tr>\n",
       "    <tr>\n",
       "      <th>7687</th>\n",
       "      <td>A3</td>\n",
       "      <td>Audi</td>\n",
       "      <td>2018</td>\n",
       "      <td>0.0</td>\n",
       "      <td>0.0</td>\n",
       "      <td>0.0</td>\n",
       "      <td>0.0</td>\n",
       "      <td>0.0</td>\n",
       "      <td>0.000000</td>\n",
       "      <td>0.019444</td>\n",
       "      <td>0.002778</td>\n",
       "    </tr>\n",
       "    <tr>\n",
       "      <th>7688</th>\n",
       "      <td>Leaf</td>\n",
       "      <td>Nissan</td>\n",
       "      <td>2017</td>\n",
       "      <td>0.0</td>\n",
       "      <td>0.0</td>\n",
       "      <td>0.0</td>\n",
       "      <td>0.0</td>\n",
       "      <td>0.0</td>\n",
       "      <td>0.000000</td>\n",
       "      <td>0.019444</td>\n",
       "      <td>0.002778</td>\n",
       "    </tr>\n",
       "    <tr>\n",
       "      <th>7689</th>\n",
       "      <td>CX-5</td>\n",
       "      <td>Mazda</td>\n",
       "      <td>2017</td>\n",
       "      <td>0.0</td>\n",
       "      <td>0.0</td>\n",
       "      <td>0.0</td>\n",
       "      <td>0.0</td>\n",
       "      <td>0.0</td>\n",
       "      <td>0.000000</td>\n",
       "      <td>0.018750</td>\n",
       "      <td>0.002679</td>\n",
       "    </tr>\n",
       "    <tr>\n",
       "      <th>7690</th>\n",
       "      <td>Landcruiser</td>\n",
       "      <td>Toyota</td>\n",
       "      <td>2011</td>\n",
       "      <td>0.0</td>\n",
       "      <td>0.0</td>\n",
       "      <td>0.0</td>\n",
       "      <td>0.0</td>\n",
       "      <td>0.0</td>\n",
       "      <td>0.000000</td>\n",
       "      <td>0.018750</td>\n",
       "      <td>0.002679</td>\n",
       "    </tr>\n",
       "  </tbody>\n",
       "</table>\n",
       "<p>7691 rows × 11 columns</p>\n",
       "</div>"
      ],
      "text/plain": [
       "             Model        Make  Year  Days Online  Days Online 1  \\\n",
       "0     Grand Scenic     Renault  2016        266.0            0.0   \n",
       "1        Discovery  Land Rover  2010        262.0            0.0   \n",
       "2             Clio     Renault  2015        262.0            0.0   \n",
       "3          Avensis      Toyota  2014        259.0            0.0   \n",
       "4      Transporter  Volkswagen  2018        259.0            0.0   \n",
       "...            ...         ...   ...          ...            ...   \n",
       "7686            A3        Audi  2017          0.0            0.0   \n",
       "7687            A3        Audi  2018          0.0            0.0   \n",
       "7688          Leaf      Nissan  2017          0.0            0.0   \n",
       "7689          CX-5       Mazda  2017          0.0            0.0   \n",
       "7690   Landcruiser      Toyota  2011          0.0            0.0   \n",
       "\n",
       "      Days Online 2  Days Online 3  Days Online 4  Days Online 5  \\\n",
       "0               0.0            0.0            0.0       0.000000   \n",
       "1               0.0            0.0            0.0       0.000000   \n",
       "2               0.0            0.0            0.0       1.354167   \n",
       "3               0.0            0.0            0.0       0.516319   \n",
       "4               0.0            0.0            0.0       1.000000   \n",
       "...             ...            ...            ...            ...   \n",
       "7686            0.0            0.0            0.0       0.000000   \n",
       "7687            0.0            0.0            0.0       0.000000   \n",
       "7688            0.0            0.0            0.0       0.000000   \n",
       "7689            0.0            0.0            0.0       0.000000   \n",
       "7690            0.0            0.0            0.0       0.000000   \n",
       "\n",
       "      Days Online 6  Average Days Online  \n",
       "0          0.000000            38.000000  \n",
       "1          0.000000            37.428571  \n",
       "2          3.000000            38.050595  \n",
       "3          0.000000            37.073760  \n",
       "4          3.000000            37.571429  \n",
       "...             ...                  ...  \n",
       "7686       0.019444             0.002778  \n",
       "7687       0.019444             0.002778  \n",
       "7688       0.019444             0.002778  \n",
       "7689       0.018750             0.002679  \n",
       "7690       0.018750             0.002679  \n",
       "\n",
       "[7691 rows x 11 columns]"
      ]
     },
     "execution_count": 35,
     "metadata": {},
     "output_type": "execute_result"
    }
   ],
   "source": [
    "final_df[6].drop([\"Total Days Online\"],axis=1)"
   ]
  },
  {
   "cell_type": "code",
   "execution_count": null,
   "metadata": {},
   "outputs": [],
   "source": []
  }
 ],
 "metadata": {
  "kernelspec": {
   "display_name": "Python 3",
   "language": "python",
   "name": "python3"
  },
  "language_info": {
   "codemirror_mode": {
    "name": "ipython",
    "version": 3
   },
   "file_extension": ".py",
   "mimetype": "text/x-python",
   "name": "python",
   "nbconvert_exporter": "python",
   "pygments_lexer": "ipython3",
   "version": "3.7.6"
  }
 },
 "nbformat": 4,
 "nbformat_minor": 4
}
